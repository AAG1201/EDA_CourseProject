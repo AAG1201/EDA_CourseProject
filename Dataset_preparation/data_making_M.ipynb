{
 "cells": [
  {
   "cell_type": "code",
   "execution_count": 1,
   "metadata": {},
   "outputs": [
    {
     "name": "stdout",
     "output_type": "stream",
     "text": [
      "Data has been processed and saved to '2019_M_combined.csv'\n"
     ]
    }
   ],
   "source": [
    "import pandas as pd\n",
    "\n",
    "try:\n",
    "    # Load the CSV file\n",
    "    hourly_data = pd.read_csv('M/2019_M.csv')\n",
    "    hourly_data['x_Timestamp'] = pd.to_datetime(hourly_data['x_Timestamp'])\n",
    "    hourly_data.set_index('x_Timestamp', inplace=True)\n",
    "\n",
    "    # Exclude 'meter' from the columns to be averaged\n",
    "    columns_to_average = hourly_data.columns.difference(['meter'])\n",
    "\n",
    "    # Resample to daily and calculate the mean of each column\n",
    "    daily_averages = hourly_data[columns_to_average].resample('D').sum()\n",
    "\n",
    "    # Group by 'meter' and the date to calculate means, assuming stable 'meter' per day\n",
    "    hourly_data['date'] = hourly_data.index.date\n",
    "    daily_data_grouped = hourly_data.groupby(['meter', 'date']).sum().reset_index()\n",
    "\n",
    "    # Load the second CSV file with daily weather data, adjust the name as per your file\n",
    "    daily_weather = pd.read_csv('M/2019_weather_M.csv')\n",
    "    daily_weather['datetime'] = pd.to_datetime(daily_weather['datetime']).dt.date\n",
    "\n",
    "    # Merge the datasets on the date field\n",
    "    combined_data = pd.merge(daily_data_grouped, daily_weather, left_on='date', right_on='datetime', how='inner')\n",
    "\n",
    "    # Remove redundant date column after merging\n",
    "    combined_data.drop(columns=['datetime'], inplace=True)\n",
    "\n",
    "    # Save the combined dataset to a new CSV file\n",
    "    combined_data.to_csv('M/2019_M_combined.csv', index=False)\n",
    "\n",
    "    print(\"Data has been processed and saved to '2019_M_combined.csv'\")\n",
    "except Exception as e:\n",
    "    print(f\"An error occurred: {e}\")\n"
   ]
  },
  {
   "cell_type": "code",
   "execution_count": 2,
   "metadata": {},
   "outputs": [
    {
     "name": "stdout",
     "output_type": "stream",
     "text": [
      "Data has been processed and saved to '2020_M_combined.csv'\n"
     ]
    }
   ],
   "source": [
    "import pandas as pd\n",
    "\n",
    "try:\n",
    "    # Load the CSV file\n",
    "    hourly_data = pd.read_csv('M/2020_M.csv')\n",
    "    hourly_data['x_Timestamp'] = pd.to_datetime(hourly_data['x_Timestamp'])\n",
    "    hourly_data.set_index('x_Timestamp', inplace=True)\n",
    "\n",
    "    # Exclude 'meter' from the columns to be averaged\n",
    "    columns_to_average = hourly_data.columns.difference(['meter'])\n",
    "\n",
    "    # Resample to daily and calculate the mean of each column\n",
    "    daily_averages = hourly_data[columns_to_average].resample('D').sum()\n",
    "\n",
    "    # Group by 'meter' and the date to calculate means, assuming stable 'meter' per day\n",
    "    hourly_data['date'] = hourly_data.index.date\n",
    "    daily_data_grouped = hourly_data.groupby(['meter', 'date']).sum().reset_index()\n",
    "\n",
    "    # Load the second CSV file with daily weather data, adjust the name as per your file\n",
    "    daily_weather = pd.read_csv('M/2020_weather_M.csv')\n",
    "    daily_weather['datetime'] = pd.to_datetime(daily_weather['datetime']).dt.date\n",
    "\n",
    "    # Merge the datasets on the date field\n",
    "    combined_data = pd.merge(daily_data_grouped, daily_weather, left_on='date', right_on='datetime', how='inner')\n",
    "\n",
    "    # Remove redundant date column after merging\n",
    "    combined_data.drop(columns=['datetime'], inplace=True)\n",
    "\n",
    "    # Save the combined dataset to a new CSV file\n",
    "    combined_data.to_csv('M/2020_M_combined.csv', index=False)\n",
    "\n",
    "    print(\"Data has been processed and saved to '2020_M_combined.csv'\")\n",
    "except Exception as e:\n",
    "    print(f\"An error occurred: {e}\")\n"
   ]
  },
  {
   "cell_type": "code",
   "execution_count": 3,
   "metadata": {},
   "outputs": [
    {
     "name": "stdout",
     "output_type": "stream",
     "text": [
      "Data has been processed and saved to '2021_M_combined.csv'\n"
     ]
    }
   ],
   "source": [
    "import pandas as pd\n",
    "\n",
    "try:\n",
    "    # Load the CSV file\n",
    "    hourly_data = pd.read_csv('M/2021_M.csv')\n",
    "    hourly_data['x_Timestamp'] = pd.to_datetime(hourly_data['x_Timestamp'])\n",
    "    hourly_data.set_index('x_Timestamp', inplace=True)\n",
    "\n",
    "    # Exclude 'meter' from the columns to be averaged\n",
    "    columns_to_average = hourly_data.columns.difference(['meter'])\n",
    "\n",
    "    # Resample to daily and calculate the mean of each column\n",
    "    daily_averages = hourly_data[columns_to_average].resample('D').sum()\n",
    "\n",
    "    # Group by 'meter' and the date to calculate means, assuming stable 'meter' per day\n",
    "    hourly_data['date'] = hourly_data.index.date\n",
    "    daily_data_grouped = hourly_data.groupby(['meter', 'date']).sum().reset_index()\n",
    "\n",
    "    # Load the second CSV file with daily weather data, adjust the name as per your file\n",
    "    daily_weather = pd.read_csv('M/2021_weather_M.csv')\n",
    "    daily_weather['datetime'] = pd.to_datetime(daily_weather['datetime']).dt.date\n",
    "\n",
    "    # Merge the datasets on the date field\n",
    "    combined_data = pd.merge(daily_data_grouped, daily_weather, left_on='date', right_on='datetime', how='inner')\n",
    "\n",
    "    # Remove redundant date column after merging\n",
    "    combined_data.drop(columns=['datetime'], inplace=True)\n",
    "\n",
    "    # Save the combined dataset to a new CSV file\n",
    "    combined_data.to_csv('M/2021_M_combined.csv', index=False)\n",
    "\n",
    "    print(\"Data has been processed and saved to '2021_M_combined.csv'\")\n",
    "except Exception as e:\n",
    "    print(f\"An error occurred: {e}\")\n"
   ]
  }
 ],
 "metadata": {
  "kernelspec": {
   "display_name": "eda_aag",
   "language": "python",
   "name": "python3"
  },
  "language_info": {
   "codemirror_mode": {
    "name": "ipython",
    "version": 3
   },
   "file_extension": ".py",
   "mimetype": "text/x-python",
   "name": "python",
   "nbconvert_exporter": "python",
   "pygments_lexer": "ipython3",
   "version": "3.10.12"
  }
 },
 "nbformat": 4,
 "nbformat_minor": 2
}
